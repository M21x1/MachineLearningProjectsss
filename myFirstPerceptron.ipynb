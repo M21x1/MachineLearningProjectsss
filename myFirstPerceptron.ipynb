{
 "cells": [
  {
   "cell_type": "code",
   "execution_count": 1,
   "metadata": {},
   "outputs": [
    {
     "name": "stdout",
     "output_type": "stream",
     "text": [
      "<__main__.Perceptron object at 0x000002110F00EB10>\n"
     ]
    }
   ],
   "source": [
    "class Perceptron:\n",
    "  def __init__(self, num_inputs=2, weights=[1,1]):\n",
    "    # complete the default constructor method\n",
    "    self.num_inputs = num_inputs\n",
    "    self.weights = weights\n",
    "    \n",
    "\n",
    "\n",
    "cool_perceptron = Perceptron()\n",
    "\n",
    "print(cool_perceptron)"
   ]
  },
  {
   "cell_type": "code",
   "execution_count": 2,
   "id": "46cb191c",
   "metadata": {},
   "outputs": [
    {
     "name": "stdout",
     "output_type": "stream",
     "text": [
      "103\n"
     ]
    }
   ],
   "source": [
    "class Perceptron:\n",
    "  def __init__(self, num_inputs=2, weights=[2,1]):\n",
    "    self.num_inputs = num_inputs\n",
    "    self.weights = weights\n",
    "    \n",
    "  def weighted_sum(self, inputs):\n",
    "    # create variable to store weighted sum\n",
    "    weighted_sum = 0\n",
    "    for i in range(self.num_inputs):\n",
    "      weighted_sum += self.weights[i] * inputs[i]\n",
    "\n",
    "    \n",
    "    return weighted_sum\n",
    "      \n",
    "cool_perceptron = Perceptron()\n",
    "\n",
    "print(cool_perceptron.weighted_sum([24,55]))\n"
   ]
  },
  {
   "cell_type": "code",
   "execution_count": 3,
   "id": "f8b3e466",
   "metadata": {},
   "outputs": [
    {
     "name": "stdout",
     "output_type": "stream",
     "text": [
      "79\n",
      "1\n"
     ]
    }
   ],
   "source": [
    "class Perceptron:\n",
    "  def __init__(self, num_inputs=2, weights=[1,1]):\n",
    "    self.num_inputs = num_inputs\n",
    "    self.weights = weights\n",
    "    \n",
    "  def weighted_sum(self, inputs):\n",
    "    weighted_sum = 0\n",
    "    for i in range(self.num_inputs):\n",
    "      weighted_sum += self.weights[i]*inputs[i]\n",
    "    return weighted_sum\n",
    "  \n",
    "  def activation(self, weighted_sum):\n",
    "    #Complete this method\n",
    "    if weighted_sum >= 0:\n",
    "      return 1\n",
    "    if weighted_sum < 0:\n",
    "      return -1\n",
    "\n",
    "cool_perceptron = Perceptron()\n",
    "print(cool_perceptron.weighted_sum([24, 55]))\n",
    "\n",
    "print(cool_perceptron.activation(52))"
   ]
  },
  {
   "cell_type": "code",
   "execution_count": 4,
   "id": "d4de1d1c",
   "metadata": {},
   "outputs": [
    {
     "data": {
      "image/png": "[encoded data removed]",
      "text/plain": [
       "<Figure size 640x480 with 1 Axes>"
      ]
     },
     "metadata": {},
     "output_type": "display_data"
    }
   ],
   "source": [
    "import matplotlib.pyplot as plt\n",
    "import random\n",
    "\n",
    "def generate_training_set(num_points):\n",
    "\tx_coordinates = [random.randint(0, 50) for i in range(num_points)]\n",
    "\ty_coordinates = [random.randint(0, 50) for i in range(num_points)]\n",
    "\ttraining_set = dict()\n",
    "\tfor x, y in zip(x_coordinates, y_coordinates):\n",
    "\t\tif x <= 45-y:\n",
    "\t\t\ttraining_set[(x,y)] = 1\n",
    "\t\telif x > 45-y:\n",
    "\t\t\ttraining_set[(x,y)] = -1\n",
    "\treturn training_set\n",
    "\n",
    "training_set = generate_training_set(30)\n",
    "\n",
    "x_plus = []\n",
    "y_plus = []\n",
    "x_minus = []\n",
    "y_minus = []\n",
    "\n",
    "for data in training_set:\n",
    "\tif training_set[data] == 1:\n",
    "\t\tx_plus.append(data[0])\n",
    "\t\ty_plus.append(data[1])\n",
    "\telif training_set[data] == -1:\n",
    "\t\tx_minus.append(data[0])\n",
    "\t\ty_minus.append(data[1])\n",
    "    \n",
    "fig = plt.figure()\n",
    "ax = plt.axes(xlim=(-25, 75), ylim=(-25, 75))\n",
    "\n",
    "plt.scatter(x_plus, y_plus, marker = '+', c = 'green', s = 128, linewidth = 2)\n",
    "plt.scatter(x_minus, y_minus, marker = '_', c = 'red', s = 128, linewidth = 2)\n",
    "\n",
    "plt.title(\"Training Set\")\n",
    "\n",
    "plt.show()"
   ]
  },
  {
   "cell_type": "code",
   "execution_count": 5,
   "id": "b71250fd",
   "metadata": {},
   "outputs": [
    {
     "name": "stdout",
     "output_type": "stream",
     "text": [
      "79\n",
      "1\n"
     ]
    }
   ],
   "source": [
    "class Perceptron:\n",
    "  def __init__(self, num_inputs=2, weights=[1,1]):\n",
    "    self.num_inputs = num_inputs\n",
    "    self.weights = weights\n",
    "    \n",
    "  def weighted_sum(self, inputs):\n",
    "    weighted_sum = 0\n",
    "    for i in range(self.num_inputs):\n",
    "      weighted_sum += self.weights[i]*inputs[i]\n",
    "    return weighted_sum\n",
    "  \n",
    "  def activation(self, weighted_sum):\n",
    "    if weighted_sum >= 0:\n",
    "      return 1\n",
    "    if weighted_sum < 0:\n",
    "      return -1\n",
    "    \n",
    "  def training(self, training_set):\n",
    "    for inputs in training_set:                   \n",
    "      prediction = self.activation(self.weighted_sum(inputs))\n",
    "      actual = training_set[inputs]\n",
    "      error = actual - prediction\n",
    "      \n",
    "cool_perceptron = Perceptron()\n",
    "print(cool_perceptron.weighted_sum([24, 55]))\n",
    "print(cool_perceptron.activation(52))"
   ]
  },
  {
   "cell_type": "code",
   "execution_count": 6,
   "id": "b684050d",
   "metadata": {},
   "outputs": [
    {
     "name": "stdout",
     "output_type": "stream",
     "text": [
      "[-5, 1]\n"
     ]
    }
   ],
   "source": [
    "class Perceptron:\n",
    "  def __init__(self, num_inputs=2, weights=[1,1]):\n",
    "    self.num_inputs = num_inputs\n",
    "    self.weights = weights\n",
    "    \n",
    "  def weighted_sum(self, inputs):\n",
    "    weighted_sum = 0\n",
    "    for i in range(self.num_inputs):\n",
    "      weighted_sum += self.weights[i]*inputs[i]\n",
    "    return weighted_sum\n",
    "  \n",
    "  def activation(self, weighted_sum):\n",
    "    if weighted_sum >= 0:\n",
    "      return 1\n",
    "    if weighted_sum < 0:\n",
    "      return -1\n",
    "    \n",
    "  def training(self, training_set):\n",
    "    foundLine = False\n",
    "    while not foundLine:\n",
    "      total_error = 0\n",
    "      for inputs in training_set:\n",
    "        prediction = self.activation(self.weighted_sum(inputs))\n",
    "        actual = training_set[inputs]\n",
    "        error = actual - prediction\n",
    "        total_error += abs(error)\n",
    "\n",
    "        for i in range(self.num_inputs):\n",
    "          self.weights[i] += error * inputs[i]\n",
    "      \n",
    "      if total_error == 0:\n",
    "        foundLine = True\n",
    "      \n",
    "    \n",
    "      \n",
    "cool_perceptron = Perceptron()\n",
    "small_training_set = {(0,3):1, (3,0):-1, (0,-3):-1, (-3,0):1}\n",
    "\n",
    "cool_perceptron.training(small_training_set)\n",
    "print(cool_perceptron.weights)"
   ]
  },
  {
   "cell_type": "markdown",
   "id": "19075851",
   "metadata": {},
   "source": [
    "### adding Bias"
   ]
  },
  {
   "cell_type": "code",
   "execution_count": 7,
   "id": "61e52682",
   "metadata": {},
   "outputs": [],
   "source": [
    "class Perceptron:\n",
    "  def __init__(self, num_inputs=3, weights=[1,1,1]):\n",
    "    self.num_inputs = num_inputs\n",
    "    self.weights = weights\n",
    "    \n",
    "  def weighted_sum(self, inputs):\n",
    "    weighted_sum = 0\n",
    "    for i in range(self.num_inputs):\n",
    "      weighted_sum += self.weights[i]*inputs[i]\n",
    "    return weighted_sum\n",
    "  \n",
    "  def activation(self, weighted_sum):\n",
    "    if weighted_sum >= 0:\n",
    "      return 1\n",
    "    if weighted_sum < 0:\n",
    "      return -1\n",
    "    \n",
    "  def training(self, training_set):\n",
    "    foundLine = False\n",
    "    while not foundLine:\n",
    "      total_error = 0\n",
    "      for inputs in training_set:\n",
    "        prediction = self.activation(self.weighted_sum(inputs))\n",
    "        actual = training_set[inputs]\n",
    "        error = actual - prediction\n",
    "        total_error += abs(error)\n",
    "        for i in range(self.num_inputs):\n",
    "          self.weights[i] += error*inputs[i]\n",
    "      if total_error == 0:\n",
    "        foundLine = True\n",
    "      \n",
    "cool_perceptron = Perceptron()"
   ]
  },
  {
   "cell_type": "code",
   "execution_count": null,
   "id": "825c0ab1",
   "metadata": {},
   "outputs": [],
   "source": [
    "'''\n",
    "lines = []\n",
    "\n",
    "class Perceptron:\n",
    "  def __init__(self, num_inputs=3, weights=[1,1,1]):\n",
    "    self.num_inputs = num_inputs\n",
    "    self.weights = weights\n",
    "\n",
    "  def weighted_sum(self, inputs):\n",
    "    weighted_sum = 0\n",
    "    for i in range(self.num_inputs):\n",
    "      weighted_sum += self.weights[i]*inputs[i]\n",
    "    return weighted_sum\n",
    "\n",
    "  def activation(self, weighted_sum):\n",
    "    if weighted_sum >= 0:\n",
    "      return 1\n",
    "    if weighted_sum < 0:\n",
    "      return -1\n",
    "\n",
    "  def training(self, training_set):\n",
    "    foundLine = False\n",
    "    while not foundLine:\n",
    "      total_error = 0\n",
    "      for inputs in training_set:\n",
    "        prediction = self.activation(self.weighted_sum(inputs))\n",
    "        actual = training_set[inputs]\n",
    "        error = actual - prediction\n",
    "        total_error += abs(error)\n",
    "        for i in range(self.num_inputs):\n",
    "          self.weights[i] += error*inputs[i]\n",
    "\n",
    "      slope = -self.weights[0]/self.weights[1]\n",
    "      intercept = -self.weights[2]/self.weights[1]\n",
    "      y1 = (slope * 0) + intercept\n",
    "      y2 = (slope * 50) + intercept\n",
    "      lines.append([[0,50], [y1, y2]])\n",
    "\n",
    "      if total_error == 0:\n",
    "        foundLine = True\n",
    "'''\n"
   ]
  },
  {
   "cell_type": "code",
   "execution_count": 13,
   "id": "fdd4979a",
   "metadata": {},
   "outputs": [
    {
     "data": {
      "image/png": "[encoded data removed]",
      "text/plain": [
       "<Figure size 640x480 with 1 Axes>"
      ]
     },
     "metadata": {},
     "output_type": "display_data"
    }
   ],
   "source": [
    "import matplotlib.pyplot as plt\n",
    "import matplotlib.animation as animation\n",
    "import random\n",
    "from perceptron import Perceptron, lines\n",
    "\n",
    "def generate_training_set(num_points):\n",
    "\tx_coordinates = [random.randint(0, 50) for i in range(num_points)]\n",
    "\ty_coordinates = [random.randint(0, 50) for i in range(num_points)]\n",
    "\ttraining_set = dict()\n",
    "\tfor x, y in zip(x_coordinates, y_coordinates):\n",
    "\t\tif x <= 45-y:\n",
    "\t\t\ttraining_set[(x,y,1)] = 1\n",
    "\t\telif x > 45-y:\n",
    "\t\t\ttraining_set[(x,y,1)] = -1\n",
    "\treturn training_set\n",
    "\n",
    "training_set = generate_training_set(30)\n",
    "\n",
    "x_plus = []\n",
    "y_plus = []\n",
    "x_minus = []\n",
    "y_minus = []\n",
    "\n",
    "for data in training_set:\n",
    "\tif training_set[data] == 1:\n",
    "\t\tx_plus.append(data[0])\n",
    "\t\ty_plus.append(data[1])\n",
    "\telif training_set[data] == -1:\n",
    "\t\tx_minus.append(data[0])\n",
    "\t\ty_minus.append(data[1])\n",
    "\n",
    "perceptron = Perceptron()\n",
    "perceptron.training(training_set)\n",
    "\n",
    "fig = plt.figure()\n",
    "ax = plt.axes(xlim=(-25, 75), ylim=(-25, 75))\n",
    "line, = ax.plot([], [], lw=2)\n",
    "\n",
    "fig.patch.set_facecolor('#ffc107')\n",
    "\n",
    "plt.scatter(x_plus, y_plus, marker = '+', c = 'green', s = 128, linewidth = 2)\n",
    "plt.scatter(x_minus, y_minus, marker = '_', c = 'red', s = 128, linewidth = 2)\n",
    "\n",
    "plt.title('Iteration: 0')\n",
    "\n",
    "\n",
    "def animate(i):\n",
    "    print(i)\n",
    "    line.set_xdata(lines[i][0])  # update the data\n",
    "    line.set_ydata(lines[i][1])  # update the data\n",
    "    return line,\n",
    "\n",
    "def init():\n",
    "    line.set_data([], [])\n",
    "    return line,\n",
    "\n",
    "ani = animation.FuncAnimation(fig, animate, frames=1, init_func=init, interval=50, blit=True, repeat=False)\n",
    "\n",
    "plt.show()"
   ]
  }
 ],
 "metadata": {
  "kernelspec": {
   "display_name": "Python 3",
   "language": "python",
   "name": "python3"
  },
  "language_info": {
   "codemirror_mode": {
    "name": "ipython",
    "version": 3
   },
   "file_extension": ".py",
   "mimetype": "text/x-python",
   "name": "python",
   "nbconvert_exporter": "python",
   "pygments_lexer": "ipython3",
   "version": "3.11.1"
  }
 },
 "nbformat": 4,
 "nbformat_minor": 5
}
