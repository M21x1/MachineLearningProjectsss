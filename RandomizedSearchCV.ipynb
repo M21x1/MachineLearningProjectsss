{
 "cells": [
  {
   "cell_type": "markdown",
   "id": "d7579626",
   "metadata": {},
   "source": [
    "*How to Use Your Jupyter Notebook:*\n",
    "\n",
    "- *You can run a cell in the Notebook to the right by placing your cursor in the cell and clicking the `Run` button or the `Shift`+`Enter/Return` keys.*\n",
    "- *When you are ready to evaluate the code in your Notebook, press the `Save` button at the top of the Notebook or use the `control/command`+`s` keys before clicking the `Test Work` button at the bottom. Be sure to save your solution code in the cell marked `## YOUR SOLUTION HERE ##` or it will not be evaluated.*\n",
    "- *When you are ready to move on, click Next.*\n",
    "\n",
    "![Screenshot of the buttons at the top of a Jupyter Notebook. The Run and Save buttons are highlighted](https://static-assets.codecademy.com/Paths/ds-python/jupyter-buttons.png)"
   ]
  },
  {
   "cell_type": "markdown",
   "id": "fb790da8",
   "metadata": {},
   "source": [
    "### Setup"
   ]
  },
  {
   "cell_type": "code",
   "execution_count": 1,
   "id": "25c8ec85",
   "metadata": {
    "tags": [
     "setup"
    ]
   },
   "outputs": [],
   "source": [
    "import pandas as pd\n",
    "from sklearn.datasets import load_breast_cancer\n",
    "from sklearn.model_selection import train_test_split\n",
    "from sklearn.linear_model import LogisticRegression\n",
    "from sklearn.model_selection import RandomizedSearchCV\n",
    "from scipy.stats import uniform\n",
    "\n",
    "# Load the data set\n",
    "cancer = load_breast_cancer()\n",
    "\n",
    "# Split the data into training and testing sets\n",
    "X = cancer.data\n",
    "y = cancer.target\n",
    "X_train, X_test, y_train, y_test = train_test_split(X, y)"
   ]
  },
  {
   "cell_type": "markdown",
   "id": "88e3d3b9",
   "metadata": {},
   "source": [
    "### 1. Create distributions to draw hyperparameters from"
   ]
  },
  {
   "cell_type": "code",
   "execution_count": 2,
   "id": "edec3713",
   "metadata": {
    "tags": [
     "cp1"
    ]
   },
   "outputs": [],
   "source": [
    "## YOUR SOLUTION HERE ##\n",
    "\n",
    "distributions = {'penalty': ['l1', 'l2'], 'C': uniform(loc=0, scale=100)}"
   ]
  },
  {
   "cell_type": "markdown",
   "id": "25bef620",
   "metadata": {},
   "source": [
    "### 2. Check distributions"
   ]
  },
  {
   "cell_type": "code",
   "execution_count": 3,
   "id": "bdd3097c",
   "metadata": {
    "tags": [
     "cp2"
    ]
   },
   "outputs": [
    {
     "name": "stdout",
     "output_type": "stream",
     "text": [
      "[93.83271182 43.4095534  36.40262472 17.88721346 79.58992612 61.63996177\n",
      "  1.12672112  4.35175591 28.78659981 90.50776134]\n",
      "[84.37007363 69.49899546 22.03335943 38.96885313 56.44546674 22.77733415\n",
      " 11.97001302 43.17471386 82.18985145 43.53533388]\n"
     ]
    }
   ],
   "source": [
    "## YOUR SOLUTION HERE ##\n",
    "first_draw = distributions['C'].rvs(10)\n",
    "\n",
    "second_draw = distributions['C'].rvs(10)\n",
    "print(first_draw)\n",
    "print(second_draw)"
   ]
  },
  {
   "cell_type": "markdown",
   "id": "3e1ea94d",
   "metadata": {},
   "source": [
    "### 3. Define model and initialize random search"
   ]
  },
  {
   "cell_type": "code",
   "execution_count": 3,
   "id": "7f7af5dd",
   "metadata": {
    "tags": [
     "cp3"
    ]
   },
   "outputs": [],
   "source": [
    "## YOUR SOLUTION HERE ##\n",
    "\n",
    "# The logistic regression model\n",
    "lr = LogisticRegression(solver = 'liblinear', max_iter = 1000)\n",
    "\n",
    "# Create a RandomizedSearchCV model\n",
    "clf = RandomizedSearchCV(lr, distributions, n_iter=8)"
   ]
  },
  {
   "cell_type": "code",
   "execution_count": null,
   "id": "4a6bac63",
   "metadata": {},
   "outputs": [],
   "source": []
  }
 ],
 "metadata": {
  "celltoolbar": "Raw Cell Format",
  "kernelspec": {
   "display_name": "Python 3 (ipykernel)",
   "language": "python",
   "name": "python3"
  },
  "language_info": {
   "codemirror_mode": {
    "name": "ipython",
    "version": 3
   },
   "file_extension": ".py",
   "mimetype": "text/x-python",
   "name": "python",
   "nbconvert_exporter": "python",
   "pygments_lexer": "ipython3",
   "version": "3.8.10"
  }
 },
 "nbformat": 4,
 "nbformat_minor": 5
}
