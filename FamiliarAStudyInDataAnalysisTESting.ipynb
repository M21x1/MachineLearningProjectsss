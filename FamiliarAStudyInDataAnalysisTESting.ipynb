{
 "cells": [
  {
   "cell_type": "code",
   "execution_count": 1,
   "metadata": {},
   "outputs": [
    {
     "name": "stdout",
     "output_type": "stream",
     "text": [
      "     pack   lifespan\n",
      "0    vein  76.255090\n",
      "1  artery  76.404504\n",
      "2  artery  75.952442\n",
      "3  artery  76.923082\n",
      "4  artery  73.771212\n",
      "76.16901335636044\n",
      "5.972157921433211e-07\n",
      "74.8736622351704\n",
      "0.05588883079070819\n",
      "     pack    iron\n",
      "0    vein     low\n",
      "1  artery  normal\n",
      "2  artery  normal\n",
      "3  artery  normal\n",
      "4  artery    high\n",
      "iron    high  low  normal\n",
      "pack                     \n",
      "artery    87   29      29\n",
      "vein      20  140      40\n",
      "9.359749337433008e-25\n"
     ]
    }
   ],
   "source": [
    "# Import libraries\n",
    "import pandas as pd\n",
    "import numpy as np\n",
    "\n",
    "# Load datasets\n",
    "lifespans = pd.read_csv('familiar_lifespan.csv')\n",
    "iron = pd.read_csv('familiar_iron.csv')\n",
    "\n",
    "# Print lifespan data\n",
    "print(lifespans.head())\n",
    "\n",
    "# Save lifespans for vein pack subscribers\n",
    "vein_pack_lifespans = lifespans.lifespan[lifespans.pack=='vein']\n",
    "\n",
    "# Calculate average lifespan for vein pack\n",
    "print(np.mean(vein_pack_lifespans))\n",
    "\n",
    "# Run one-sample t-test\n",
    "from scipy.stats import ttest_1samp\n",
    "tstat, pval = ttest_1samp(vein_pack_lifespans, 73)\n",
    "print(pval)\n",
    "\n",
    "# Save lifespans for artery pack subscribers\n",
    "artery_pack_lifespans = lifespans.lifespan[lifespans.pack=='artery']\n",
    "\n",
    "# Calculate artery pack life spans\n",
    "print(np.mean(artery_pack_lifespans))\n",
    "\n",
    "# Run two-sample t-test\n",
    "from scipy.stats import ttest_ind\n",
    "tstat, pval = ttest_ind(vein_pack_lifespans, artery_pack_lifespans)\n",
    "print(pval)\n",
    "\n",
    "# Inspect first 5 rows of iron dataset\n",
    "print(iron.head())\n",
    "\n",
    "# Create contingency table\n",
    "Xtab = pd.crosstab(iron.pack, iron.iron)\n",
    "print(Xtab)\n",
    "\n",
    "# Run Chi-Square test\n",
    "from scipy.stats import chi2_contingency\n",
    "chi2, pval, dof, exp = chi2_contingency(Xtab)\n",
    "print(pval)\n"
   ]
  }
 ],
 "metadata": {
  "kernelspec": {
   "display_name": "base",
   "language": "python",
   "name": "python3"
  },
  "language_info": {
   "codemirror_mode": {
    "name": "ipython",
    "version": 3
   },
   "file_extension": ".py",
   "mimetype": "text/x-python",
   "name": "python",
   "nbconvert_exporter": "python",
   "pygments_lexer": "ipython3",
   "version": "3.12.7"
  }
 },
 "nbformat": 4,
 "nbformat_minor": 2
}
