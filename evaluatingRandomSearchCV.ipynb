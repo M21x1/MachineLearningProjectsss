{
 "cells": [
  {
   "cell_type": "markdown",
   "id": "693bc3b3",
   "metadata": {},
   "source": [
    "*How to Use Your Jupyter Notebook:*\n",
    "\n",
    "- *You can run a cell in the Notebook to the right by placing your cursor in the cell and clicking the `Run` button or the `Shift`+`Enter/Return` keys.*\n",
    "- *When you are ready to evaluate the code in your Notebook, press the `Save` button at the top of the Notebook or use the `control/command`+`s` keys before clicking the `Test Work` button at the bottom. Be sure to save your solution code in the cell marked `## YOUR SOLUTION HERE ##` or it will not be evaluated.*\n",
    "- *When you are ready to move on, click Next.*\n",
    "\n",
    "![Screenshot of the buttons at the top of a Jupyter Notebook. The Run and Save buttons are highlighted](https://static-assets.codecademy.com/Paths/ds-python/jupyter-buttons.png)"
   ]
  },
  {
   "cell_type": "markdown",
   "id": "0b6d06fc",
   "metadata": {},
   "source": [
    "### Setup"
   ]
  },
  {
   "cell_type": "code",
   "execution_count": 1,
   "id": "a8f1e46c",
   "metadata": {
    "tags": [
     "setup"
    ]
   },
   "outputs": [],
   "source": [
    "import pandas as pd\n",
    "from sklearn.datasets import load_breast_cancer\n",
    "from sklearn.model_selection import train_test_split\n",
    "from sklearn.linear_model import LogisticRegression\n",
    "from sklearn.model_selection import RandomizedSearchCV\n",
    "from scipy.stats import uniform\n",
    "\n",
    "# Load the data set\n",
    "cancer = load_breast_cancer()\n",
    "\n",
    "# Split the data into training and testing sets\n",
    "X = cancer.data\n",
    "y = cancer.target\n",
    "X_train, X_test, y_train, y_test = train_test_split(X, y)\n",
    "\n",
    "# Create distributions to draw hyperparameters from\n",
    "distributions = {'penalty': ['l1', 'l2'], 'C': uniform(loc=0, scale=100)}\n",
    "\n",
    "# The logistic regression model\n",
    "lr = LogisticRegression(solver = 'liblinear', max_iter = 1000)\n",
    "\n",
    "# Create a RandomizedSearchCV model\n",
    "clf = RandomizedSearchCV(lr, distributions, n_iter=8)"
   ]
  },
  {
   "cell_type": "markdown",
   "id": "4a9a0a66",
   "metadata": {},
   "source": [
    "### 1. Fit `clf` to training data and get best hyperparameters"
   ]
  },
  {
   "cell_type": "code",
   "execution_count": 2,
   "id": "71774b32",
   "metadata": {
    "tags": [
     "cp1"
    ]
   },
   "outputs": [
    {
     "name": "stdout",
     "output_type": "stream",
     "text": [
      "LogisticRegression(C=31.769718491702726, max_iter=1000, penalty='l1',\n",
      "                   solver='liblinear')\n",
      "{'C': 31.769718491702726, 'penalty': 'l1'}\n"
     ]
    }
   ],
   "source": [
    "## YOUR SOLUTION HERE ##\n",
    "\n",
    "clf.fit(X_train, y_train)\n",
    "best_model = clf.best_estimator_\n",
    "print(best_model)\n",
    "print(clf.best_params_)"
   ]
  },
  {
   "cell_type": "markdown",
   "id": "52475198",
   "metadata": {},
   "source": [
    "### 2. Calculate training and test scores of the best estimator"
   ]
  },
  {
   "cell_type": "code",
   "execution_count": 3,
   "id": "05884e3e",
   "metadata": {
    "tags": [
     "cp2"
    ]
   },
   "outputs": [
    {
     "name": "stdout",
     "output_type": "stream",
     "text": [
      "0.969466484268126\n",
      "0.951048951048951\n"
     ]
    }
   ],
   "source": [
    "## YOUR SOLUTION HERE ##\n",
    "\n",
    "best_score = clf.best_score_\n",
    "test_score = clf.score(X_test, y_test)\n",
    "print(best_score)\n",
    "print(test_score)"
   ]
  },
  {
   "cell_type": "markdown",
   "id": "2d4afba6",
   "metadata": {},
   "source": [
    "### 3. Viewing random search Results"
   ]
  },
  {
   "cell_type": "code",
   "execution_count": 4,
   "id": "cb9d2952",
   "metadata": {
    "tags": [
     "cp3"
    ]
   },
   "outputs": [
    {
     "name": "stdout",
     "output_type": "stream",
     "text": [
      "           C penalty     score\n",
      "0  87.003879      l2  0.955376\n",
      "1   5.133015      l1  0.957729\n",
      "2  51.976782      l1  0.967114\n",
      "3  71.640591      l1  0.967086\n",
      "4  39.863819      l2  0.955376\n",
      "5  31.769718      l1  0.969466\n",
      "6  90.378809      l2  0.960082\n",
      "7  33.530884      l1  0.969466\n"
     ]
    }
   ],
   "source": [
    "## YOUR SOLUTION HERE ##\n",
    "hyperparameter_values = pd.DataFrame(clf.cv_results_['params'])\n",
    "randomsearch_scores = pd.DataFrame(clf.cv_results_['mean_test_score'], columns = ['score'])\n",
    "\n",
    "df = pd.concat([hyperparameter_values, randomsearch_scores], axis = 1)\n",
    "print(df)"
   ]
  },
  {
   "cell_type": "code",
   "execution_count": null,
   "id": "a1433159",
   "metadata": {},
   "outputs": [],
   "source": []
  }
 ],
 "metadata": {
  "celltoolbar": "Raw Cell Format",
  "kernelspec": {
   "display_name": "base",
   "language": "python",
   "name": "python3"
  },
  "language_info": {
   "codemirror_mode": {
    "name": "ipython",
    "version": 3
   },
   "file_extension": ".py",
   "mimetype": "text/x-python",
   "name": "python",
   "nbconvert_exporter": "python",
   "pygments_lexer": "ipython3",
   "version": "3.12.7"
  }
 },
 "nbformat": 4,
 "nbformat_minor": 5
}
