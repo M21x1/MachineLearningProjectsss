{
 "cells": [
  {
   "cell_type": "code",
   "execution_count": 1,
   "id": "3977b0a7",
   "metadata": {},
   "outputs": [
    {
     "name": "stdout",
     "output_type": "stream",
     "text": [
      "['alt.atheism', 'comp.graphics', 'comp.os.ms-windows.misc', 'comp.sys.ibm.pc.hardware', 'comp.sys.mac.hardware', 'comp.windows.x', 'misc.forsale', 'rec.autos', 'rec.motorcycles', 'rec.sport.baseball', 'rec.sport.hockey', 'sci.crypt', 'sci.electronics', 'sci.med', 'sci.space', 'soc.religion.christian', 'talk.politics.guns', 'talk.politics.mideast', 'talk.politics.misc', 'talk.religion.misc']\n",
      "1\n",
      "['rec.sport.baseball', 'rec.sport.hockey']\n",
      "0.6297640653357531\n"
     ]
    }
   ],
   "source": [
    "from sklearn.datasets import fetch_20newsgroups\n",
    "from sklearn.naive_bayes import MultinomialNB\n",
    "from sklearn.feature_extraction.text import CountVectorizer\n",
    "\n",
    "# 1 looking at different categories\n",
    "emails = fetch_20newsgroups()\n",
    "\n",
    "print(emails.target_names)\n",
    "# 2 Select the categories of articles\n",
    "emails = fetch_20newsgroups(categories = ['rec.sport.baseball','rec.sport.hockey'])\n",
    "\n",
    "# 3 taking a look at one email\n",
    "\n",
    "#print(emails.data[5])\n",
    "\n",
    "# 4 print label\n",
    "\n",
    "print(emails.target[5])\n",
    "\n",
    "print(emails.target_names)\n",
    "\n",
    "# 5 Making the training set\n",
    "\n",
    "train_emails = fetch_20newsgroups(categories = ['alt.atheism','comp.graphics','comp.os.ms-windows.misc'], #'rec.sport.baseball', 'rec.sport.hockey'\n",
    "subset = 'train', shuffle = True, random_state = 108)\n",
    "\n",
    "# 6 making the test set\n",
    "\n",
    "test_emails = fetch_20newsgroups(categories = ['alt.atheism','comp.graphics','comp.os.ms-windows.misc'], # 'rec.sport.baseball', 'rec.sport.hockey'\n",
    "subset = 'test', shuffle = True, random_state = 108)\n",
    "\n",
    "# 7 making lists of word counts\n",
    "\n",
    "counter = CountVectorizer()\n",
    "\n",
    "# 8 what possible can exist in our emails\n",
    "\n",
    "counter.fit(test_emails.data + train_emails.data)\n",
    "\n",
    "# 9 list of counts for train\n",
    "\n",
    "train_counts = counter.transform(train_emails.data)\n",
    "\n",
    "# 10 list of counts for test\n",
    "\n",
    "test_counts = counter.transform(test_emails.data)\n",
    "\n",
    "# 11 creating model\n",
    "\n",
    "classifier = MultinomialNB()\n",
    "\n",
    "# 12 fit\n",
    "\n",
    "classifier.fit(train_counts, train_emails.target)\n",
    "\n",
    "# 13 score\n",
    "\n",
    "print(classifier.score(test_counts, test_emails.target))"
   ]
  }
 ],
 "metadata": {
  "kernelspec": {
   "display_name": "base",
   "language": "python",
   "name": "python3"
  },
  "language_info": {
   "codemirror_mode": {
    "name": "ipython",
    "version": 3
   },
   "file_extension": ".py",
   "mimetype": "text/x-python",
   "name": "python",
   "nbconvert_exporter": "python",
   "pygments_lexer": "ipython3",
   "version": "3.12.7"
  }
 },
 "nbformat": 4,
 "nbformat_minor": 5
}
