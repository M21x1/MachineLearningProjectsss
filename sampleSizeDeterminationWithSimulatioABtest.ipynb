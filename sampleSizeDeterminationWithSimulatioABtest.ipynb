{
 "cells": [
  {
   "cell_type": "code",
   "execution_count": 2,
   "metadata": {},
   "outputs": [
    {
     "name": "stdout",
     "output_type": "stream",
     "text": [
      "  Web_Version Purchased\n",
      "0           A        no\n",
      "1           A        no\n",
      "2           A       yes\n",
      "3           A       yes\n",
      "4           A       yes\n",
      "0.10096676200907678\n"
     ]
    }
   ],
   "source": [
    "import pandas as pd\n",
    "from scipy.stats import chi2_contingency\n",
    "\n",
    "data = pd.read_csv(\"ab_data.csv\")\n",
    "print(data.head())\n",
    "\n",
    "# calculate contingency table here\n",
    "\n",
    "ab_contingency = pd.crosstab(data.Web_Version, data.Purchased)\n",
    "\n",
    "# run your chi square test here\n",
    "\n",
    "chi2, pval, dof, expected = chi2_contingency(ab_contingency)\n",
    "\n",
    "print(pval)"
   ]
  },
  {
   "cell_type": "markdown",
   "metadata": {},
   "source": [
    "# Simulating Data for a Chi-Square test"
   ]
  },
  {
   "cell_type": "code",
   "execution_count": 3,
   "metadata": {},
   "outputs": [
    {
     "name": "stdout",
     "output_type": "stream",
     "text": [
      "    Button Opened\n",
      "0  control     no\n",
      "1  control    yes\n",
      "2     name     no\n",
      "3     name     no\n"
     ]
    }
   ],
   "source": [
    "import numpy as np\n",
    "import pandas as pd\n",
    "\n",
    "sample_size = 4# fill in sample size here\n",
    "lift = .3\n",
    "control_rate = .5\n",
    "name_rate = (1 + lift) * control_rate\n",
    "\n",
    "sample_control = np.random.choice(['yes', 'no'], size=int(sample_size/2), p=[control_rate,1-control_rate])\n",
    "sample_name = np.random.choice(['yes', 'no'], size=int(sample_size/2), p=[name_rate, 1-name_rate])\n",
    "\n",
    "group = ['control']*int(sample_size/2) + ['name']*int(sample_size/2)\n",
    "outcome = list(sample_control) + list(sample_name)\n",
    "sim_data = {\"Button\": group, \"Opened\": outcome}\n",
    "sim_data = pd.DataFrame(sim_data)\n",
    "print(sim_data)"
   ]
  },
  {
   "cell_type": "markdown",
   "metadata": {},
   "source": [
    "# Determining Significance"
   ]
  },
  {
   "cell_type": "code",
   "execution_count": 4,
   "metadata": {},
   "outputs": [
    {
     "name": "stdout",
     "output_type": "stream",
     "text": [
      "P Value:\n",
      "0.3148786413364169\n",
      "Result:\n",
      "not significant\n"
     ]
    }
   ],
   "source": [
    "import numpy as np\n",
    "import pandas as pd\n",
    "from scipy.stats import chi2_contingency\n",
    "\n",
    "# pre-set values\n",
    "significance_threshold = 0.05\n",
    "sample_size = 100\n",
    "lift = .3\n",
    "control_rate = .5\n",
    "name_rate = (1 + lift) * control_rate\n",
    "\n",
    "# simulate a dataset\n",
    "sample_control = np.random.choice(['yes', 'no'], size=int(sample_size/2), p=[control_rate,1-control_rate])\n",
    "sample_name = np.random.choice(['yes', 'no'], size=int(sample_size/2), p=[name_rate, 1-name_rate])\n",
    "\n",
    "group = ['control']*int(sample_size/2) + ['name']*int(sample_size/2)\n",
    "outcome = list(sample_control) + list(sample_name)\n",
    "sim_data = {\"Email\": group, \"Opened\": outcome}\n",
    "sim_data = pd.DataFrame(sim_data)\n",
    "\n",
    "# run a chi-square test\n",
    "ab_contingency = pd.crosstab(np.array(sim_data.Email), np.array(sim_data.Opened))\n",
    "chi2, pval, dof, expected = chi2_contingency(ab_contingency, correction=False)\n",
    "print(\"P Value:\")\n",
    "print(pval)\n",
    "\n",
    "# determine significance here:\n",
    "result = ('significant' if pval < significance_threshold else 'not significant')\n",
    "\n",
    "print(\"Result:\")\n",
    "print(result)\n"
   ]
  },
  {
   "cell_type": "markdown",
   "metadata": {},
   "source": [
    "# Estimating Power"
   ]
  },
  {
   "cell_type": "code",
   "execution_count": 5,
   "metadata": {},
   "outputs": [
    {
     "name": "stdout",
     "output_type": "stream",
     "text": [
      "Proportion of significant results:\n",
      "0.27\n"
     ]
    }
   ],
   "source": [
    "import numpy as np\n",
    "import pandas as pd\n",
    "from scipy.stats import chi2_contingency\n",
    "\n",
    "# preset values\n",
    "significance_threshold = 0.05\n",
    "sample_size = 100\n",
    "lift = .3\n",
    "control_rate = .5\n",
    "name_rate = (1 + lift) * control_rate\n",
    "\n",
    "# initialize an empty list of results\n",
    "results = []\n",
    "\n",
    "# start the loop\n",
    "for i in range(100):\n",
    "  # simulate data:\n",
    "  sample_control = np.random.choice(['yes', 'no'],  size=int(sample_size/2), p=[control_rate, 1-control_rate])\n",
    "  sample_name = np.random.choice(['yes', 'no'], size=int(sample_size/2), p=[name_rate, 1-name_rate])\n",
    "  group = ['control']*int(sample_size/2) + ['name']*int(sample_size/2)\n",
    "  outcome = list(sample_control) + list(sample_name)\n",
    "  sim_data = {\"Email\": group, \"Opened\": outcome}\n",
    "  sim_data = pd.DataFrame(sim_data)\n",
    "\n",
    "  # run the test\n",
    "  ab_contingency = pd.crosstab(np.array(sim_data.Email), np.array(sim_data.Opened))\n",
    "  chi2, pval, dof, expected = chi2_contingency(ab_contingency)\n",
    "  result = ('significant' if pval < significance_threshold else 'not significant')\n",
    "\n",
    "  # append the result to our results list here:\n",
    "  results.append(result)\n",
    "\n",
    "# calculate proportion of significant results here:\n",
    "print(\"Proportion of significant results:\")\n",
    "\n",
    "results = np.array(results)\n",
    "sig_prop = np.sum(results == 'significant')/100\n",
    "\n",
    "print(sig_prop)\n",
    "\n"
   ]
  },
  {
   "cell_type": "markdown",
   "metadata": {},
   "source": [
    "# False Positives and True Positives"
   ]
  },
  {
   "cell_type": "code",
   "execution_count": null,
   "metadata": {},
   "outputs": [
    {
     "name": "stdout",
     "output_type": "stream",
     "text": [
      "Proportion of significant results:\n",
      "0.05\n"
     ]
    }
   ],
   "source": [
    "import numpy as np\n",
    "import pandas as pd\n",
    "from scipy.stats import chi2_contingency\n",
    "\n",
    "# preset values\n",
    "significance_threshold = 0.05\n",
    "sample_size = 100\n",
    "lift = 0 # 0.3\n",
    "control_rate = .5\n",
    "name_rate = (1 + lift) * control_rate\n",
    "\n",
    "# initialize an empty list of results\n",
    "results = []\n",
    "\n",
    "# start the loop\n",
    "for i in range(100):\n",
    "  # simulate data:\n",
    "  sample_control = np.random.choice(['yes', 'no'],  size=int(sample_size/2), p=[control_rate, 1-control_rate])\n",
    "  sample_name = np.random.choice(['yes', 'no'], size=int(sample_size/2), p=[name_rate, 1-name_rate])\n",
    "  group = ['control']*int(sample_size/2) + ['name']*int(sample_size/2)\n",
    "  outcome = list(sample_control) + list(sample_name)\n",
    "  sim_data = {\"Email\": group, \"Opened\": outcome}\n",
    "  sim_data = pd.DataFrame(sim_data)\n",
    "\n",
    "  # run the test\n",
    "  ab_contingency = pd.crosstab(np.array(sim_data.Email), np.array(sim_data.Opened))\n",
    "  chi2, pval, dof, expected = chi2_contingency(ab_contingency)\n",
    "  result = ('significant' if pval < significance_threshold else 'not significant')\n",
    "\n",
    "  # append the result to our results list:\n",
    "  results.append(result)\n",
    "\n",
    "# calculate proportion of significant results:\n",
    "print(\"Proportion of significant results:\")\n",
    "results =  np.array(results)\n",
    "print(np.sum(results == 'significant')/100)"
   ]
  },
  {
   "cell_type": "markdown",
   "metadata": {},
   "source": [
    "# Trade Offs"
   ]
  },
  {
   "cell_type": "code",
   "execution_count": 7,
   "metadata": {},
   "outputs": [
    {
     "name": "stdout",
     "output_type": "stream",
     "text": [
      "Proportion of significant results:\n",
      "1.0\n"
     ]
    }
   ],
   "source": [
    "import numpy as np\n",
    "import pandas as pd\n",
    "from scipy.stats import chi2_contingency\n",
    "\n",
    "# preset values\n",
    "significance_threshold = 0.10 # 0.05\n",
    "sample_size = 500 # 100\n",
    "lift = .4 # .3\n",
    "control_rate = .5\n",
    "name_rate = (1 + lift) * control_rate\n",
    "\n",
    "# initialize an empty list of results\n",
    "results = []\n",
    "\n",
    "# start the loop\n",
    "for i in range(100):\n",
    "  # simulate data:\n",
    "  sample_control = np.random.choice(['yes', 'no'],  size=int(sample_size/2), p=[control_rate, 1-control_rate])\n",
    "  sample_name = np.random.choice(['yes', 'no'], size=int(sample_size/2), p=[name_rate, 1-name_rate])\n",
    "  group = ['control']*int(sample_size/2) + ['name']*int(sample_size/2)\n",
    "  outcome = list(sample_control) + list(sample_name)\n",
    "  sim_data = {\"Email\": group, \"Opened\": outcome}\n",
    "  sim_data = pd.DataFrame(sim_data)\n",
    "\n",
    "  # run the test\n",
    "  ab_contingency = pd.crosstab(np.array(sim_data.Email), np.array(sim_data.Opened))\n",
    "  chi2, pval, dof, expected = chi2_contingency(ab_contingency)\n",
    "  result = ('significant' if pval < significance_threshold else 'not significant')\n",
    "\n",
    "  # append the result to our results list:\n",
    "  results.append(result)\n",
    "\n",
    "# calculate proportion of significant results:\n",
    "print(\"Proportion of significant results:\")\n",
    "results =  np.array(results)\n",
    "print(np.sum(results == 'significant')/100)"
   ]
  },
  {
   "cell_type": "markdown",
   "metadata": {},
   "source": [
    "# Example with calculator"
   ]
  },
  {
   "cell_type": "markdown",
   "metadata": {},
   "source": [
    "## Calculator"
   ]
  },
  {
   "cell_type": "code",
   "execution_count": 1,
   "metadata": {},
   "outputs": [],
   "source": [
    "import tkinter as tk\n",
    "from tkinter import ttk\n",
    "from scipy.stats import norm\n",
    "import math\n",
    "\n",
    "def calculate_sample_size():\n",
    "    try:\n",
    "        baseline_rate = float(baseline_entry.get()) / 100\n",
    "        effect_size = float(effect_entry.get()) / 100\n",
    "        alpha = float(significance_var.get()) / 100\n",
    "        power = 0.8  # Default power (1 - beta)\n",
    "\n",
    "        # Z-scores for significance level and power\n",
    "        z_alpha = norm.ppf(1 - alpha / 2)\n",
    "        z_beta = norm.ppf(power)\n",
    "\n",
    "        # Pooled probability estimate\n",
    "        p1 = baseline_rate\n",
    "        p2 = baseline_rate * (1 + effect_size)\n",
    "        p_avg = (p1 + p2) / 2\n",
    "\n",
    "        # Sample size formula\n",
    "        numerator = (z_alpha * math.sqrt(2 * p_avg * (1 - p_avg)) + z_beta * math.sqrt(p1 * (1 - p1) + p2 * (1 - p2))) ** 2\n",
    "        denominator = (p2 - p1) ** 2\n",
    "        sample_size = math.ceil(numerator / denominator)\n",
    "\n",
    "        result_label.config(text=f\"Sample size per group: {sample_size}\")\n",
    "    except ValueError:\n",
    "        result_label.config(text=\"Invalid input, please enter valid numbers.\")\n",
    "\n",
    "# GUI Setup\n",
    "root = tk.Tk()\n",
    "root.title(\"A/B Test Sample Size Calculator\")\n",
    "\n",
    "# Input Fields\n",
    "tk.Label(root, text=\"Baseline conversion rate (%):\").grid(row=0, column=0, sticky=\"w\")\n",
    "baseline_entry = tk.Entry(root)\n",
    "baseline_entry.grid(row=0, column=1)\n",
    "\n",
    "significance_var = tk.StringVar(value=\"5\")\n",
    "tk.Label(root, text=\"Significance threshold (%):\").grid(row=1, column=0, sticky=\"w\")\n",
    "thresh_frame = tk.Frame(root)\n",
    "thresh_frame.grid(row=1, column=1)\n",
    "for val in [15, 10, 5]:\n",
    "    ttk.Radiobutton(thresh_frame, text=f\"{val}%\", variable=significance_var, value=str(val)).pack(side=\"left\")\n",
    "\n",
    "tk.Label(root, text=\"Minimum detectable effect (%):\").grid(row=2, column=0, sticky=\"w\")\n",
    "effect_entry = tk.Entry(root)\n",
    "effect_entry.grid(row=2, column=1)\n",
    "\n",
    "# Calculate Button\n",
    "calc_button = tk.Button(root, text=\"Calculate\", command=calculate_sample_size)\n",
    "calc_button.grid(row=3, column=0, columnspan=2)\n",
    "\n",
    "# Result Label\n",
    "result_label = tk.Label(root, text=\"\")\n",
    "result_label.grid(row=4, column=0, columnspan=2)\n",
    "\n",
    "root.mainloop()\n"
   ]
  },
  {
   "cell_type": "code",
   "execution_count": 9,
   "metadata": {},
   "outputs": [
    {
     "name": "stdout",
     "output_type": "stream",
     "text": [
      "Proportion of significant results:\n",
      "0.48\n"
     ]
    }
   ],
   "source": [
    "import numpy as np\n",
    "import pandas as pd\n",
    "from scipy.stats import chi2_contingency\n",
    "\n",
    "# preset values\n",
    "significance_threshold = 0.05\n",
    "sample_size = 180#change the sample size here\n",
    "lift = .3\n",
    "control_rate = .5\n",
    "name_rate = (1 + lift) * control_rate\n",
    "\n",
    "# initialize an empty list of results\n",
    "results = []\n",
    "\n",
    "# start the loop\n",
    "for i in range(100):\n",
    "  # simulate data:\n",
    "  sample_control = np.random.choice(['yes', 'no'],  size=int(sample_size/2), p=[control_rate, 1-control_rate])\n",
    "  sample_name = np.random.choice(['yes', 'no'], size=int(sample_size/2), p=[name_rate, 1-name_rate])\n",
    "  group = ['control']*int(sample_size/2) + ['name']*int(sample_size/2)\n",
    "  outcome = list(sample_control) + list(sample_name)\n",
    "  sim_data = {\"Email\": group, \"Opened\": outcome}\n",
    "  sim_data = pd.DataFrame(sim_data)\n",
    "\n",
    "  # run the test\n",
    "  ab_contingency = pd.crosstab(np.array(sim_data.Email), np.array(sim_data.Opened))\n",
    "  chi2, pval, dof, expected = chi2_contingency(ab_contingency)\n",
    "  result = ('significant' if pval < significance_threshold else 'not significant')\n",
    "\n",
    "  # append the result to our results list:\n",
    "  results.append(result)\n",
    "\n",
    "# calculate proportion of significant results:\n",
    "print(\"Proportion of significant results:\")\n",
    "results =  np.array(results)\n",
    "print(np.sum(results == 'significant')/100)"
   ]
  },
  {
   "cell_type": "markdown",
   "metadata": {},
   "source": [
    "# Adjusted calculator"
   ]
  }
 ],
 "metadata": {
  "kernelspec": {
   "display_name": "base",
   "language": "python",
   "name": "python3"
  },
  "language_info": {
   "codemirror_mode": {
    "name": "ipython",
    "version": 3
   },
   "file_extension": ".py",
   "mimetype": "text/x-python",
   "name": "python",
   "nbconvert_exporter": "python",
   "pygments_lexer": "ipython3",
   "version": "3.12.7"
  }
 },
 "nbformat": 4,
 "nbformat_minor": 2
}
