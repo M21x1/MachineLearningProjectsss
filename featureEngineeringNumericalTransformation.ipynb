{
 "cells": [
  {
   "cell_type": "markdown",
   "metadata": {},
   "source": [
    "# FEATURE ENGINEERING - NUMERICAL TRANSFORMATION"
   ]
  },
  {
   "cell_type": "code",
   "execution_count": 1,
   "metadata": {},
   "outputs": [
    {
     "name": "stdout",
     "output_type": "stream",
     "text": [
      "Index(['avg_spent', 'nearest_starbucks', 'age', 'rate_quality', 'rate_price',\n",
      "       'rate_promo', 'ambiance', 'wifi', 'service', 'meetings_hangout'],\n",
      "      dtype='object')\n",
      "<class 'pandas.core.frame.DataFrame'>\n",
      "RangeIndex: 122 entries, 0 to 121\n",
      "Data columns (total 10 columns):\n",
      " #   Column             Non-Null Count  Dtype\n",
      "---  ------             --------------  -----\n",
      " 0   avg_spent          122 non-null    int64\n",
      " 1   nearest_starbucks  122 non-null    int64\n",
      " 2   age                122 non-null    int64\n",
      " 3   rate_quality       122 non-null    int64\n",
      " 4   rate_price         122 non-null    int64\n",
      " 5   rate_promo         122 non-null    int64\n",
      " 6   ambiance           122 non-null    int64\n",
      " 7   wifi               122 non-null    int64\n",
      " 8   service            122 non-null    int64\n",
      " 9   meetings_hangout   122 non-null    int64\n",
      "dtypes: int64(10)\n",
      "memory usage: 9.7 KB\n",
      "None\n"
     ]
    }
   ],
   "source": [
    "import pandas as pd \n",
    "\n",
    "coffee = pd.read_csv('starbucks_customers.csv')\n",
    "\n",
    "#print(coffee.head())\n",
    "print(coffee.columns)\n",
    "\n",
    "print(coffee.info())\n"
   ]
  },
  {
   "cell_type": "markdown",
   "metadata": {},
   "source": [
    "# 1. CENTERING"
   ]
  },
  {
   "cell_type": "code",
   "execution_count": 4,
   "metadata": {},
   "outputs": [
    {
     "name": "stdout",
     "output_type": "stream",
     "text": [
      "13\n",
      "70\n",
      "57\n",
      "27.33606557377049\n"
     ]
    },
    {
     "data": {
      "image/png": "[encoded data removed]",
      "text/plain": [
       "<Figure size 640x480 with 1 Axes>"
      ]
     },
     "metadata": {},
     "output_type": "display_data"
    }
   ],
   "source": [
    "import pandas as pd\n",
    "import numpy as np\n",
    "import matplotlib.pyplot as plt \n",
    "\n",
    "\n",
    "coffee = pd.read_csv('starbucks_customers.csv')\n",
    "\n",
    "# 1\n",
    "ages = coffee['age']\n",
    "\n",
    "# 2\n",
    "min_age = np.min(ages)\n",
    "print(min_age)\n",
    "\n",
    "# 3\n",
    "max_age = np.max(ages)\n",
    "print(max_age)\n",
    "# 4\n",
    "print(max_age - min_age)\n",
    "\n",
    "# 5\n",
    "mean_age = np.mean(ages)\n",
    "print(mean_age)\n",
    "\n",
    "# 6\n",
    "centered_ages = ages - mean_age\n",
    "# 7\n",
    "plt.hist(centered_ages)\n",
    "plt.show()\n"
   ]
  },
  {
   "cell_type": "markdown",
   "metadata": {},
   "source": [
    "# STANDARDIZING OUR DATA"
   ]
  },
  {
   "cell_type": "code",
   "execution_count": 5,
   "metadata": {},
   "outputs": [
    {
     "name": "stdout",
     "output_type": "stream",
     "text": [
      "Mean  27.33606557377049\n",
      "Std  9.428428111378786\n",
      "Mean normalized  1.383228686418228e-16\n",
      "Std normalized  1.0000000000000002\n"
     ]
    }
   ],
   "source": [
    "import pandas as pd\n",
    "import numpy as np\n",
    "\n",
    "coffee = pd.read_csv('starbucks_customers.csv')\n",
    "ages = coffee['age']\n",
    "\n",
    "## add code below\n",
    "## set up your variables\n",
    "mean_age = np.mean(ages)\n",
    "\n",
    "## standardize ages\n",
    "std_dev_age = np.std(ages)\n",
    "\n",
    "## print the results \n",
    "ages_standardized = (ages - mean_age)/ std_dev_age\n",
    "mean_as = np.mean(ages_standardized)\n",
    "std_as = np.std(ages_standardized)\n",
    "\n",
    "print(\"Mean \",mean_age)\n",
    "print(\"Std \",std_dev_age)\n",
    "\n",
    "print(\"Mean normalized \",mean_as)\n",
    "print(\"Std normalized \",std_as)\n",
    "\n"
   ]
  },
  {
   "cell_type": "markdown",
   "metadata": {},
   "source": [
    "## Standardizing With Sklearn "
   ]
  },
  {
   "cell_type": "code",
   "execution_count": 6,
   "metadata": {},
   "outputs": [
    {
     "name": "stdout",
     "output_type": "stream",
     "text": [
      "1.7290358580227847e-16\n",
      "0.9999999999999999\n"
     ]
    }
   ],
   "source": [
    "import pandas as pd\n",
    "import numpy as np\n",
    "from sklearn.preprocessing import StandardScaler \n",
    "\n",
    "coffee = pd.read_csv('starbucks_customers.csv')\n",
    "ages = coffee['age']\n",
    "\n",
    "## add code below\n",
    "# 1\n",
    "scaler = StandardScaler()\n",
    "# 2\n",
    "ages_reshaped = np.array(ages).reshape(-1,1)\n",
    "# 3\n",
    "ages_scaled = scaler.fit_transform(ages_reshaped)\n",
    "# 4\n",
    "print(np.mean(ages_scaled))\n",
    "print(np.std(ages_scaled))\n"
   ]
  },
  {
   "cell_type": "markdown",
   "metadata": {},
   "source": [
    "# MIN MAX NORMALIZATION"
   ]
  },
  {
   "cell_type": "code",
   "execution_count": 10,
   "metadata": {},
   "outputs": [
    {
     "name": "stdout",
     "output_type": "stream",
     "text": [
      "28\n",
      "0\n",
      "28\n",
      "0      0.464286\n",
      "1      0.892857\n",
      "2      0.357143\n",
      "3      0.250000\n",
      "4      0.357143\n",
      "         ...   \n",
      "117    0.178571\n",
      "118    0.571429\n",
      "119    0.071429\n",
      "120    0.678571\n",
      "121    0.107143\n",
      "Name: spent, Length: 122, dtype: float64\n"
     ]
    }
   ],
   "source": [
    "import pandas as pd\n",
    "import numpy as np\n",
    "\n",
    "coffee = pd.read_csv('starbucks_customers.csv')\n",
    "\n",
    "#print(coffee.head())\n",
    "## add code below\n",
    "## get spent feature\n",
    "spent = coffee['spent']\n",
    "\n",
    "#find the max spent\n",
    "max_spent = np.max(spent)\n",
    "print(max_spent)\n",
    "\n",
    "#find the min spent\n",
    "min_spent = np.min(spent)\n",
    "print(min_spent)\n",
    "\n",
    "#find the difference\n",
    "spent_range = max_spent - min_spent\n",
    "\n",
    "print(spent_range)\n",
    "\n",
    "#normalize your spent feature\n",
    "spent_normalized = (spent - min_spent) / spent_range\n",
    "\n",
    "#print your results\n",
    "print(spent_normalized)\n"
   ]
  },
  {
   "cell_type": "markdown",
   "metadata": {},
   "source": [
    "## Min - Max Normalization with Sklearn"
   ]
  },
  {
   "cell_type": "code",
   "execution_count": 11,
   "metadata": {},
   "outputs": [
    {
     "name": "stdout",
     "output_type": "stream",
     "text": [
      "0.0\n",
      "1.0\n"
     ]
    }
   ],
   "source": [
    "import pandas as pd\n",
    "import numpy as np\n",
    "from sklearn.preprocessing import MinMaxScaler\n",
    "\n",
    "coffee = pd.read_csv('starbucks_customers.csv')\n",
    "spent = coffee['spent']\n",
    "\n",
    "## write your code below\n",
    "\n",
    "# 1\n",
    "spent_reshaped = np.array(spent).reshape(-1,1)\n",
    "\n",
    "# 2\n",
    "\n",
    "mmscaler = MinMaxScaler()\n",
    "\n",
    "# 3\n",
    "\n",
    "reshaped_scaled = mmscaler.fit_transform(spent_reshaped)\n",
    "\n",
    "# 4\n",
    "\n",
    "print(np.min(reshaped_scaled))\n",
    "print(np.max(reshaped_scaled))\n"
   ]
  },
  {
   "cell_type": "markdown",
   "metadata": {},
   "source": [
    "# BINNING OUR DATA"
   ]
  },
  {
   "cell_type": "code",
   "execution_count": 12,
   "metadata": {},
   "outputs": [
    {
     "name": "stdout",
     "output_type": "stream",
     "text": [
      "13\n",
      "70\n",
      "0    [40, 71)\n",
      "1    [30, 40)\n",
      "2    [20, 30)\n",
      "3    [20, 30)\n",
      "4    [20, 30)\n",
      "5    [20, 30)\n",
      "6    [20, 30)\n",
      "7    [20, 30)\n",
      "8    [20, 30)\n",
      "9    [20, 30)\n",
      "Name: binned_ages, dtype: category\n",
      "Categories (4, interval[int64, left]): [[12, 20) < [20, 30) < [30, 40) < [40, 71)]\n"
     ]
    },
    {
     "data": {
      "image/png": "[encoded data removed]",
      "text/plain": [
       "<Figure size 640x480 with 1 Axes>"
      ]
     },
     "metadata": {},
     "output_type": "display_data"
    }
   ],
   "source": [
    "import pandas as pd\n",
    "import numpy as np\n",
    "import matplotlib.pyplot as plt\n",
    "\n",
    "\n",
    "coffee = pd.read_csv('starbucks_customers.csv')\n",
    "ages = coffee['age']\n",
    "\n",
    "# 1\n",
    "print(np.min(ages))\n",
    "print(np.max(ages))\n",
    "\n",
    "# 2\n",
    "age_bins = [12, 20, 30, 40, 71]\n",
    "\n",
    "# 3\n",
    "coffee['binned_ages'] = pd.cut(ages, age_bins, right = False)\n",
    "\n",
    "# 4 \n",
    "print(coffee['binned_ages'].head(10))\n",
    "\n",
    "# 5\n",
    "coffee['binned_ages'].value_counts().plot(kind='bar')\n",
    "plt.show()\n"
   ]
  },
  {
   "cell_type": "markdown",
   "metadata": {},
   "source": [
    "# NATURAL LOG TRANSFORMATION"
   ]
  },
  {
   "cell_type": "code",
   "execution_count": 13,
   "metadata": {},
   "outputs": [
    {
     "data": {
      "image/png": "[encoded data removed]",
      "text/plain": [
       "<Figure size 640x480 with 1 Axes>"
      ]
     },
     "metadata": {},
     "output_type": "display_data"
    },
    {
     "data": {
      "image/png": "[encoded data removed]",
      "text/plain": [
       "<Figure size 640x480 with 1 Axes>"
      ]
     },
     "metadata": {},
     "output_type": "display_data"
    }
   ],
   "source": [
    "import pandas as pd \n",
    "import numpy as np\n",
    "import matplotlib.pyplot as plt\n",
    "\n",
    "\n",
    "## add code below\n",
    "## read in csv file\n",
    "cars = pd.read_csv('cars.csv')\n",
    "\n",
    "## set you price variable\n",
    "prices = cars['sellingprice']\n",
    "\n",
    "## plot a histogram of prices\n",
    "plt.hist(prices, bins = 150)\n",
    "plt.show()\n",
    "\n",
    "## log transform prices\n",
    "log_prices = np.log(prices)\n",
    "\n",
    "## plot a histogram of log_prices\n",
    "plt.hist(log_prices, bins=150)\n",
    "plt.show()\n"
   ]
  }
 ],
 "metadata": {
  "kernelspec": {
   "display_name": "base",
   "language": "python",
   "name": "python3"
  },
  "language_info": {
   "codemirror_mode": {
    "name": "ipython",
    "version": 3
   },
   "file_extension": ".py",
   "mimetype": "text/x-python",
   "name": "python",
   "nbconvert_exporter": "python",
   "pygments_lexer": "ipython3",
   "version": "3.12.7"
  }
 },
 "nbformat": 4,
 "nbformat_minor": 2
}
