{
 "cells": [
  {
   "cell_type": "code",
   "execution_count": 1,
   "metadata": {},
   "outputs": [
    {
     "name": "stdout",
     "output_type": "stream",
     "text": [
      "Baseline percent:\n",
      "18.6\n",
      "Percentage point increase:\n",
      "9.4\n",
      "Minimum Detectable Effect:\n",
      "50.53763440860215\n"
     ]
    }
   ],
   "source": [
    "# Step 1\n",
    "import noshmishmosh\n",
    "\n",
    "# Step 2\n",
    "import numpy as np\n",
    "\n",
    "# Step 4\n",
    "all_visitors = noshmishmosh.customer_visits\n",
    "\n",
    "# Step 5\n",
    "paying_visitors = noshmishmosh.purchasing_customers\n",
    "\n",
    "# Step 6\n",
    "total_visitor_count = len(all_visitors)\n",
    "paying_visitor_count = len(paying_visitors)\n",
    "\n",
    "# Step 7\n",
    "baseline_percent = paying_visitor_count / total_visitor_count * 100\n",
    "\n",
    "# Step 8\n",
    "print(\"Baseline percent:\")\n",
    "print(baseline_percent)\n",
    "\n",
    "# Step 9\n",
    "payment_history = noshmishmosh.money_spent\n",
    "\n",
    "# Step 10\n",
    "average_payment = np.mean(payment_history)\n",
    "\n",
    "# Step 11\n",
    "new_customers_needed = np.ceil(1240 / average_payment)\n",
    "\n",
    "# Step 12\n",
    "percentage_point_increase = new_customers_needed / total_visitor_count * 100\n",
    "print(\"Percentage point increase:\")\n",
    "print(percentage_point_increase)\n",
    "\n",
    "# Step 13\n",
    "mde = percentage_point_increase / baseline_percent * 100\n",
    "\n",
    "# Step 14\n",
    "print(\"Minimum Detectable Effect:\")\n",
    "print(mde)\n",
    "\n",
    "# Step 16\n",
    "ab_sample_size = \t490"
   ]
  }
 ],
 "metadata": {
  "kernelspec": {
   "display_name": "base",
   "language": "python",
   "name": "python3"
  },
  "language_info": {
   "codemirror_mode": {
    "name": "ipython",
    "version": 3
   },
   "file_extension": ".py",
   "mimetype": "text/x-python",
   "name": "python",
   "nbconvert_exporter": "python",
   "pygments_lexer": "ipython3",
   "version": "3.12.7"
  }
 },
 "nbformat": 4,
 "nbformat_minor": 2
}
